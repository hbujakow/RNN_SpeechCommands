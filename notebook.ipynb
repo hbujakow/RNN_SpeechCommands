{
 "cells": [
  {
   "cell_type": "code",
   "execution_count": 1,
   "metadata": {},
   "outputs": [],
   "source": [
    "known_classes = ['up', 'down', 'left', 'right', 'on', 'off', 'yes', 'no']\n",
    "# known_classes = ['yes', 'no']"
   ]
  },
  {
   "cell_type": "code",
   "execution_count": 2,
   "metadata": {},
   "outputs": [],
   "source": [
    "import os\n",
    "\n",
    "raw_data_dir = 'raw'\n",
    "with open(f'{raw_data_dir}/validation_list.txt', 'r') as file:\n",
    "    validation_list = file.readlines()\n",
    "    validation_list = [path.strip() for path in validation_list if path.strip()]\n",
    "    validation_list = [path for path in validation_list if path.split('/')[0] in known_classes]\n",
    "with open(f'{raw_data_dir}/testing_list.txt', 'r') as file:\n",
    "    testing_list = file.readlines()\n",
    "    testing_list = [path.strip() for path in testing_list]\n",
    "    testing_list = [path for path in testing_list if path.split('/')[0] in known_classes]"
   ]
  },
  {
   "cell_type": "code",
   "execution_count": 3,
   "metadata": {},
   "outputs": [],
   "source": [
    "datasets = ['train', 'validation', 'test']\n",
    "data_dir = 'data'\n",
    "os.makedirs(data_dir, exist_ok=True)\n",
    "for dataset in datasets:\n",
    "    os.makedirs(f'{data_dir}/{dataset}', exist_ok=True)\n",
    "    for known_class in known_classes:\n",
    "        os.makedirs(f'{data_dir}/{dataset}/{known_class}', exist_ok=True)"
   ]
  },
  {
   "cell_type": "code",
   "execution_count": 4,
   "metadata": {},
   "outputs": [],
   "source": [
    "import shutil\n",
    "\n",
    "for dataset in datasets:\n",
    "    if dataset == 'train':\n",
    "        path = data_dir + '/train'\n",
    "        for known_class in known_classes:\n",
    "            for root, dirs, files in os.walk(f'{raw_data_dir}/{known_class}'):\n",
    "                for file in files:\n",
    "                    if f'{known_class}/{file}' not in validation_list and f'{known_class}/{file}' not in testing_list:\n",
    "                        shutil.copy(f'{raw_data_dir}/{known_class}/{file}', f'{path}/{known_class}/{file}')\n",
    "    elif dataset == 'validation':\n",
    "        path = data_dir + '/validation'\n",
    "        for file in validation_list:\n",
    "            shutil.copy(f'{raw_data_dir}/{file}', f'{path}/{file}')\n",
    "    else:\n",
    "        path = data_dir + '/test'\n",
    "        for file in testing_list:\n",
    "            shutil.copy(f'{raw_data_dir}/{file}', f'{path}/{file}')"
   ]
  },
  {
   "cell_type": "code",
   "execution_count": 5,
   "metadata": {},
   "outputs": [
    {
     "name": "stdout",
     "output_type": "stream",
     "text": [
      "train:\n",
      "up: 1843\n",
      "down: 1842\n",
      "left: 1839\n",
      "right: 1852\n",
      "on: 1864\n",
      "off: 1839\n",
      "yes: 1860\n",
      "no: 1853\n",
      "\n",
      "validation:\n",
      "up: 260\n",
      "down: 264\n",
      "left: 247\n",
      "right: 256\n",
      "on: 257\n",
      "off: 256\n",
      "yes: 261\n",
      "no: 270\n",
      "\n",
      "test:\n",
      "up: 272\n",
      "down: 253\n",
      "left: 267\n",
      "right: 259\n",
      "on: 246\n",
      "off: 262\n",
      "yes: 256\n",
      "no: 252\n",
      "\n"
     ]
    }
   ],
   "source": [
    "for dataset in datasets:\n",
    "    print(f'{dataset}:')\n",
    "    for known_class in known_classes:\n",
    "        print(f'{known_class}: {len(os.listdir(f\"{data_dir}/{dataset}/{known_class}\"))}')\n",
    "    print()"
   ]
  },
  {
   "cell_type": "code",
   "execution_count": null,
   "metadata": {},
   "outputs": [],
   "source": []
  }
 ],
 "metadata": {
  "kernelspec": {
   "display_name": "venv",
   "language": "python",
   "name": "python3"
  },
  "language_info": {
   "codemirror_mode": {
    "name": "ipython",
    "version": 3
   },
   "file_extension": ".py",
   "mimetype": "text/x-python",
   "name": "python",
   "nbconvert_exporter": "python",
   "pygments_lexer": "ipython3",
   "version": "3.10.11"
  }
 },
 "nbformat": 4,
 "nbformat_minor": 2
}
