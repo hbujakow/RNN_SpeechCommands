{
 "cells": [
  {
   "cell_type": "code",
   "execution_count": 1,
   "metadata": {},
   "outputs": [
    {
     "name": "stderr",
     "output_type": "stream",
     "text": [
      "/home/bujakowskih/uni/RNN/rnn/lib/python3.10/site-packages/tqdm/auto.py:21: TqdmWarning: IProgress not found. Please update jupyter and ipywidgets. See https://ipywidgets.readthedocs.io/en/stable/user_install.html\n",
      "  from .autonotebook import tqdm as notebook_tqdm\n"
     ]
    }
   ],
   "source": [
    "import json\n",
    "import pandas as pd\n",
    "from datetime import datetime\n",
    "\n",
    "import evaluate\n",
    "import numpy as np\n",
    "import torch\n",
    "from datasets import load_dataset"
   ]
  },
  {
   "cell_type": "code",
   "execution_count": 2,
   "metadata": {},
   "outputs": [],
   "source": [
    "speech_data = load_dataset(\n",
    "    \"speech_commands\", \"v0.02\"\n",
    ")"
   ]
  },
  {
   "cell_type": "code",
   "execution_count": 3,
   "metadata": {},
   "outputs": [
    {
     "data": {
      "text/plain": [
       "DatasetDict({\n",
       "    train: Dataset({\n",
       "        features: ['file', 'audio', 'label', 'is_unknown', 'speaker_id', 'utterance_id'],\n",
       "        num_rows: 84848\n",
       "    })\n",
       "    validation: Dataset({\n",
       "        features: ['file', 'audio', 'label', 'is_unknown', 'speaker_id', 'utterance_id'],\n",
       "        num_rows: 9982\n",
       "    })\n",
       "    test: Dataset({\n",
       "        features: ['file', 'audio', 'label', 'is_unknown', 'speaker_id', 'utterance_id'],\n",
       "        num_rows: 4890\n",
       "    })\n",
       "})"
      ]
     },
     "execution_count": 3,
     "metadata": {},
     "output_type": "execute_result"
    }
   ],
   "source": [
    "speech_data"
   ]
  },
  {
   "cell_type": "code",
   "execution_count": 4,
   "metadata": {},
   "outputs": [],
   "source": [
    "speech_data = speech_data.filter(lambda x: len(x[\"audio\"][\"array\"]) / 16_000 < 10)"
   ]
  },
  {
   "cell_type": "code",
   "execution_count": 5,
   "metadata": {},
   "outputs": [
    {
     "data": {
      "text/plain": [
       "DatasetDict({\n",
       "    train: Dataset({\n",
       "        features: ['file', 'audio', 'label', 'is_unknown', 'speaker_id', 'utterance_id'],\n",
       "        num_rows: 84843\n",
       "    })\n",
       "    validation: Dataset({\n",
       "        features: ['file', 'audio', 'label', 'is_unknown', 'speaker_id', 'utterance_id'],\n",
       "        num_rows: 9981\n",
       "    })\n",
       "    test: Dataset({\n",
       "        features: ['file', 'audio', 'label', 'is_unknown', 'speaker_id', 'utterance_id'],\n",
       "        num_rows: 4890\n",
       "    })\n",
       "})"
      ]
     },
     "execution_count": 5,
     "metadata": {},
     "output_type": "execute_result"
    }
   ],
   "source": [
    "speech_data"
   ]
  },
  {
   "cell_type": "code",
   "execution_count": 6,
   "metadata": {},
   "outputs": [],
   "source": [
    "subset_of_labels = [\"up\", \"down\", \"left\", \"right\", \"on\", \"off\", \"yes\", \"no\"]"
   ]
  },
  {
   "cell_type": "code",
   "execution_count": 7,
   "metadata": {},
   "outputs": [],
   "source": [
    "speech_data = speech_data.filter(lambda x: x['file'].split(\"/\")[0] in subset_of_labels)"
   ]
  },
  {
   "cell_type": "code",
   "execution_count": 8,
   "metadata": {},
   "outputs": [
    {
     "data": {
      "text/plain": [
       "DatasetDict({\n",
       "    train: Dataset({\n",
       "        features: ['file', 'audio', 'label', 'is_unknown', 'speaker_id', 'utterance_id'],\n",
       "        num_rows: 24552\n",
       "    })\n",
       "    validation: Dataset({\n",
       "        features: ['file', 'audio', 'label', 'is_unknown', 'speaker_id', 'utterance_id'],\n",
       "        num_rows: 2981\n",
       "    })\n",
       "    test: Dataset({\n",
       "        features: ['file', 'audio', 'label', 'is_unknown', 'speaker_id', 'utterance_id'],\n",
       "        num_rows: 3261\n",
       "    })\n",
       "})"
      ]
     },
     "execution_count": 8,
     "metadata": {},
     "output_type": "execute_result"
    }
   ],
   "source": [
    "speech_data"
   ]
  },
  {
   "cell_type": "code",
   "execution_count": 9,
   "metadata": {},
   "outputs": [],
   "source": [
    "train = speech_data[\"train\"]\n",
    "validation = speech_data[\"validation\"]\n",
    "test = speech_data[\"test\"]"
   ]
  },
  {
   "cell_type": "code",
   "execution_count": 10,
   "metadata": {},
   "outputs": [],
   "source": [
    "SEED = 1\n",
    "train = train.shuffle(seed=SEED)\n",
    "validation = validation.shuffle(seed=SEED)\n",
    "test = test.shuffle(seed=SEED)"
   ]
  },
  {
   "cell_type": "code",
   "execution_count": 11,
   "metadata": {},
   "outputs": [],
   "source": [
    "def extract_fields(example):\n",
    "    x = example[\"audio\"][\"array\"]\n",
    "    return {\"label\": example[\"label\"], \"array\": np.pad(x, (0, 16000 - len(x)), constant_values=0)}"
   ]
  },
  {
   "cell_type": "code",
   "execution_count": 12,
   "metadata": {},
   "outputs": [],
   "source": [
    "train = train.map(extract_fields)\n",
    "validation = validation.map(extract_fields)\n",
    "test = test.map(extract_fields)"
   ]
  },
  {
   "cell_type": "code",
   "execution_count": 13,
   "metadata": {},
   "outputs": [],
   "source": [
    "train = train.map(remove_columns=[\"file\", \"audio\", \"speaker_id\", \"utterance_id\"])\n",
    "validation = validation.map(remove_columns=[\"file\", \"audio\", \"speaker_id\", \"utterance_id\"])\n",
    "test = test.map(remove_columns=[\"file\", \"audio\", \"speaker_id\", \"utterance_id\"])"
   ]
  },
  {
   "cell_type": "code",
   "execution_count": 14,
   "metadata": {},
   "outputs": [
    {
     "name": "stdout",
     "output_type": "stream",
     "text": [
      "cuda:3\n"
     ]
    }
   ],
   "source": [
    "device = torch.device(\"cuda\" if torch.cuda.is_available() else \"cpu\")\n",
    "device = 'cuda:3'\n",
    "print(device)"
   ]
  },
  {
   "cell_type": "code",
   "execution_count": 15,
   "metadata": {},
   "outputs": [
    {
     "name": "stderr",
     "output_type": "stream",
     "text": [
      "/tmp/ipykernel_1216364/1588589695.py:31: FutureWarning: load_metric is deprecated and will be removed in the next major version of datasets. Use 'evaluate.load' instead, from the new library 🤗 Evaluate: https://huggingface.co/docs/evaluate\n",
      "  accuracy = load_metric(\"accuracy\")\n"
     ]
    },
    {
     "name": "stderr",
     "output_type": "stream",
     "text": [
      "/home/bujakowskih/uni/RNN/rnn/lib/python3.10/site-packages/datasets/load.py:759: FutureWarning: The repository for accuracy contains custom code which must be executed to correctly load the metric. You can inspect the repository content at https://raw.githubusercontent.com/huggingface/datasets/2.19.0/metrics/accuracy/accuracy.py\n",
      "You can avoid this message in future by passing the argument `trust_remote_code=True`.\n",
      "Passing `trust_remote_code=True` will be mandatory to load this metric from the next major release of `datasets`.\n",
      "  warnings.warn(\n"
     ]
    }
   ],
   "source": [
    "import torch\n",
    "import torch.nn as nn\n",
    "from torch.utils.data import DataLoader\n",
    "from datasets import load_dataset\n",
    "import numpy as np\n",
    "\n",
    "from torch.autograd import Variable\n",
    "\n",
    "# device = torch.device(\"cuda\" if torch.cuda.is_available() else \"cpu\")\n",
    "\n",
    "class LSTMModel(nn.Module):\n",
    "    def __init__(self, input_size, hidden_size, num_layers, output_size):\n",
    "        super(LSTMModel, self).__init__()\n",
    "        self.hidden_size = hidden_size\n",
    "        self.num_layers = num_layers\n",
    "        self.lstm = nn.LSTM(input_size, hidden_size, num_layers, batch_first=True)\n",
    "        self.fc = nn.Linear(hidden_size, output_size)\n",
    "\n",
    "    def forward(self, x):\n",
    "        h0 = torch.zeros(self.num_layers, x.size(0), self.hidden_size).to(x.device)\n",
    "        c0 = torch.zeros(self.num_layers, x.size(0), self.hidden_size).to(x.device)\n",
    "\n",
    "        out, _ = self.lstm(x, (h0, c0))\n",
    "\n",
    "        out = self.fc(out[:, -1, :])\n",
    "        return out\n",
    "\n",
    "\n",
    "from datasets import load_metric\n",
    "\n",
    "accuracy = load_metric(\"accuracy\")\n",
    "\n",
    "NUM_EPOCHS = 100\n",
    "BATCH_SIZE = 256\n",
    "\n",
    "torch.cuda.empty_cache()\n",
    "model = LSTMModel(16_000, 64, 2, len(subset_of_labels))\n",
    "\n",
    "model.to(device)\n",
    "\n",
    "criterion = nn.CrossEntropyLoss()\n",
    "optimizer = torch.optim.Adam(model.parameters(), lr=0.001)\n",
    "scheduler = torch.optim.lr_scheduler.CosineAnnealingLR(\n",
    "    optimizer=optimizer, T_max=NUM_EPOCHS, eta_min=0\n",
    ")\n",
    "best_val_loss = float(\"inf\")"
   ]
  },
  {
   "cell_type": "code",
   "execution_count": 16,
   "metadata": {},
   "outputs": [],
   "source": [
    "def calculate_accuracy(preds, y):\n",
    "    temp = torch.nn.functional.softmax(preds, dim=1)\n",
    "    temp = torch.argmax(temp, dim=1)\n",
    "    return (torch.sum(temp == y) / len(y)).item()"
   ]
  },
  {
   "cell_type": "code",
   "execution_count": 17,
   "metadata": {},
   "outputs": [
    {
     "name": "stderr",
     "output_type": "stream",
     "text": [
      "  0%|          | 0/100 [00:00<?, ?it/s]"
     ]
    },
    {
     "name": "stdout",
     "output_type": "stream",
     "text": [
      "Epoch 1 train loss: 2.0787476648887, train accuracy: 0.13816535333171487\n"
     ]
    },
    {
     "name": "stderr",
     "output_type": "stream",
     "text": [
      "  1%|          | 1/100 [04:34<7:33:05, 274.60s/it]"
     ]
    },
    {
     "name": "stdout",
     "output_type": "stream",
     "text": [
      "Epoch 1 val loss: 0.008367870206682525, val accuracy: 0.0005528860816376515\n",
      "Epoch 2 train loss: 2.0660356308023133, train accuracy: 0.20729924350356063\n"
     ]
    },
    {
     "name": "stderr",
     "output_type": "stream",
     "text": [
      "  2%|▏         | 2/100 [09:06<7:25:43, 272.89s/it]"
     ]
    },
    {
     "name": "stdout",
     "output_type": "stream",
     "text": [
      "Epoch 2 val loss: 0.008363358249043667, val accuracy: 0.0005937779521590229\n",
      "Epoch 3 train loss: 1.9346177950501442, train accuracy: 0.3113915454596281\n"
     ]
    },
    {
     "name": "stderr",
     "output_type": "stream",
     "text": [
      "  3%|▎         | 3/100 [13:36<7:19:12, 271.68s/it]"
     ]
    },
    {
     "name": "stdout",
     "output_type": "stream",
     "text": [
      "Epoch 3 val loss: 0.00844027419411788, val accuracy: 0.0006077394804191525\n",
      "Epoch 4 train loss: 1.6637613487740357, train accuracy: 0.461559076483051\n"
     ]
    },
    {
     "name": "stderr",
     "output_type": "stream",
     "text": [
      "  4%|▍         | 4/100 [18:06<7:13:25, 270.89s/it]"
     ]
    },
    {
     "name": "stdout",
     "output_type": "stream",
     "text": [
      "Epoch 4 val loss: 0.008768760930048223, val accuracy: 0.0005952233447999772\n",
      "Epoch 5 train loss: 1.381819939861695, train accuracy: 0.5245571794609228\n"
     ]
    },
    {
     "name": "stderr",
     "output_type": "stream",
     "text": [
      "  5%|▌         | 5/100 [22:36<7:08:43, 270.77s/it]"
     ]
    },
    {
     "name": "stdout",
     "output_type": "stream",
     "text": [
      "Epoch 5 val loss: 0.009320036751517751, val accuracy: 0.0006604247977372905\n",
      "Epoch 6 train loss: 1.0208840544025104, train accuracy: 0.6846404677877823\n"
     ]
    },
    {
     "name": "stderr",
     "output_type": "stream",
     "text": [
      "  6%|▌         | 6/100 [27:07<7:04:03, 270.67s/it]"
     ]
    },
    {
     "name": "stdout",
     "output_type": "stream",
     "text": [
      "Epoch 6 val loss: 0.009906098091614322, val accuracy: 0.0006656663274253147\n",
      "Epoch 7 train loss: 0.8918028641492128, train accuracy: 0.7081803946445385\n"
     ]
    },
    {
     "name": "stderr",
     "output_type": "stream",
     "text": [
      "  7%|▋         | 7/100 [31:36<6:58:49, 270.21s/it]"
     ]
    },
    {
     "name": "stdout",
     "output_type": "stream",
     "text": [
      "Epoch 7 val loss: 0.01086152843563639, val accuracy: 0.0006732586015194544\n",
      "Epoch 8 train loss: 0.6053905729204416, train accuracy: 0.8251812811940908\n"
     ]
    },
    {
     "name": "stderr",
     "output_type": "stream",
     "text": [
      "  8%|▊         | 8/100 [36:06<6:53:58, 269.99s/it]"
     ]
    },
    {
     "name": "stdout",
     "output_type": "stream",
     "text": [
      "Epoch 8 val loss: 0.011377588529308464, val accuracy: 0.0006845993649355719\n",
      "Epoch 9 train loss: 0.5652038526410857, train accuracy: 0.8219372977813085\n"
     ]
    },
    {
     "name": "stderr",
     "output_type": "stream",
     "text": [
      "  9%|▉         | 9/100 [40:35<6:49:27, 269.98s/it]"
     ]
    },
    {
     "name": "stdout",
     "output_type": "stream",
     "text": [
      "Epoch 9 val loss: 0.012860960866012497, val accuracy: 0.0006962578015133903\n",
      "Epoch 10 train loss: 0.364815104752779, train accuracy: 0.9018807243555784\n"
     ]
    },
    {
     "name": "stderr",
     "output_type": "stream",
     "text": [
      " 10%|█         | 10/100 [45:05<6:44:34, 269.72s/it]"
     ]
    },
    {
     "name": "stdout",
     "output_type": "stream",
     "text": [
      "Epoch 10 val loss: 0.013252331162010892, val accuracy: 0.0007227354653926953\n",
      "Epoch 11 train loss: 0.3606899653871854, train accuracy: 0.8937595412135124\n"
     ]
    },
    {
     "name": "stderr",
     "output_type": "stream",
     "text": [
      " 11%|█         | 11/100 [49:35<6:40:14, 269.83s/it]"
     ]
    },
    {
     "name": "stdout",
     "output_type": "stream",
     "text": [
      "Epoch 11 val loss: 0.014903972069715662, val accuracy: 0.0006965278169525746\n",
      "Epoch 12 train loss: 0.22830977647875747, train accuracy: 0.9441549368202686\n"
     ]
    },
    {
     "name": "stderr",
     "output_type": "stream",
     "text": [
      " 12%|█▏        | 12/100 [54:05<6:35:49, 269.88s/it]"
     ]
    },
    {
     "name": "stdout",
     "output_type": "stream",
     "text": [
      "Epoch 12 val loss: 0.015192518295037271, val accuracy: 0.0006986959034146498\n",
      "Epoch 13 train loss: 0.23059594770893455, train accuracy: 0.9380836927642425\n"
     ]
    },
    {
     "name": "stderr",
     "output_type": "stream",
     "text": [
      " 13%|█▎        | 13/100 [58:35<6:31:38, 270.10s/it]"
     ]
    },
    {
     "name": "stdout",
     "output_type": "stream",
     "text": [
      "Epoch 13 val loss: 0.017068658647662, val accuracy: 0.0006886655224205383\n",
      "Epoch 14 train loss: 0.14729188506801924, train accuracy: 0.9686349450300137\n"
     ]
    },
    {
     "name": "stderr",
     "output_type": "stream",
     "text": [
      " 14%|█▍        | 14/100 [1:03:05<6:26:56, 269.96s/it]"
     ]
    },
    {
     "name": "stdout",
     "output_type": "stream",
     "text": [
      "Epoch 14 val loss: 0.0173314273537345, val accuracy: 0.0006950824243116203\n",
      "Epoch 15 train loss: 0.14714672796738645, train accuracy: 0.965343256170551\n"
     ]
    },
    {
     "name": "stderr",
     "output_type": "stream",
     "text": [
      " 15%|█▌        | 15/100 [1:07:36<6:22:54, 270.29s/it]"
     ]
    },
    {
     "name": "stdout",
     "output_type": "stream",
     "text": [
      "Epoch 15 val loss: 0.019029915472758133, val accuracy: 0.0006895708791844119\n",
      "Epoch 16 train loss: 0.0978631266237547, train accuracy: 0.9818311668932438\n"
     ]
    },
    {
     "name": "stderr",
     "output_type": "stream",
     "text": [
      " 16%|█▌        | 16/100 [1:12:08<6:18:59, 270.71s/it]"
     ]
    },
    {
     "name": "stdout",
     "output_type": "stream",
     "text": [
      "Epoch 16 val loss: 0.01928243553906389, val accuracy: 0.0006693274542534363\n",
      "Epoch 17 train loss: 0.094545964927723, train accuracy: 0.9819364001353582\n"
     ]
    },
    {
     "name": "stderr",
     "output_type": "stream",
     "text": [
      " 17%|█▋        | 17/100 [1:16:37<6:14:04, 270.42s/it]"
     ]
    },
    {
     "name": "stdout",
     "output_type": "stream",
     "text": [
      "Epoch 17 val loss: 0.020811576324995234, val accuracy: 0.0006900235575663488\n",
      "Epoch 18 train loss: 0.06336027432310705, train accuracy: 0.9905472677201033\n"
     ]
    },
    {
     "name": "stderr",
     "output_type": "stream",
     "text": [
      " 18%|█▊        | 18/100 [1:21:07<6:09:08, 270.10s/it]"
     ]
    },
    {
     "name": "stdout",
     "output_type": "stream",
     "text": [
      "Epoch 18 val loss: 0.021195266759463583, val accuracy: 0.0006940897150513151\n",
      "Epoch 19 train loss: 0.061624586795611926, train accuracy: 0.9905879578242699\n"
     ]
    },
    {
     "name": "stderr",
     "output_type": "stream",
     "text": [
      " 19%|█▉        | 19/100 [1:25:36<6:04:26, 269.96s/it]"
     ]
    },
    {
     "name": "stdout",
     "output_type": "stream",
     "text": [
      "Epoch 19 val loss: 0.022380305952131647, val accuracy: 0.0006803982022303696\n",
      "Epoch 20 train loss: 0.045839407083500795, train accuracy: 0.99462890625\n"
     ]
    },
    {
     "name": "stderr",
     "output_type": "stream",
     "text": [
      " 20%|██        | 20/100 [1:30:06<5:59:38, 269.73s/it]"
     ]
    },
    {
     "name": "stdout",
     "output_type": "stream",
     "text": [
      "Epoch 20 val loss: 0.022759989738784275, val accuracy: 0.0006817085846523757\n",
      "Epoch 21 train loss: 0.03869080950971693, train accuracy: 0.9958860899011294\n"
     ]
    },
    {
     "name": "stderr",
     "output_type": "stream",
     "text": [
      " 21%|██        | 21/100 [1:34:35<5:55:07, 269.72s/it]"
     ]
    },
    {
     "name": "stdout",
     "output_type": "stream",
     "text": [
      "Epoch 21 val loss: 0.023778872056440872, val accuracy: 0.0007014993312014145\n",
      "Epoch 22 train loss: 0.03279817634029314, train accuracy: 0.9963743711511294\n"
     ]
    },
    {
     "name": "stderr",
     "output_type": "stream",
     "text": [
      " 22%|██▏       | 22/100 [1:39:05<5:50:33, 269.66s/it]"
     ]
    },
    {
     "name": "stdout",
     "output_type": "stream",
     "text": [
      "Epoch 22 val loss: 0.02417895714735193, val accuracy: 0.0006836066556752668\n",
      "Epoch 23 train loss: 0.026487521584688995, train accuracy: 0.9973958333333334\n"
     ]
    },
    {
     "name": "stderr",
     "output_type": "stream",
     "text": [
      " 23%|██▎       | 23/100 [1:43:34<5:46:02, 269.64s/it]"
     ]
    },
    {
     "name": "stdout",
     "output_type": "stream",
     "text": [
      "Epoch 23 val loss: 0.024921001343469577, val accuracy: 0.0006894358689654637\n",
      "Epoch 24 train loss: 0.022595250299976517, train accuracy: 0.9975992838541666\n"
     ]
    },
    {
     "name": "stderr",
     "output_type": "stream",
     "text": [
      " 24%|██▍       | 24/100 [1:48:07<5:42:28, 270.38s/it]"
     ]
    },
    {
     "name": "stdout",
     "output_type": "stream",
     "text": [
      "Epoch 24 val loss: 0.02544753018020584, val accuracy: 0.000688848185363291\n",
      "Epoch 25 train loss: 0.017352224337325122, train accuracy: 0.9987386067708334\n"
     ]
    },
    {
     "name": "stderr",
     "output_type": "stream",
     "text": [
      " 25%|██▌       | 25/100 [1:52:37<5:37:55, 270.34s/it]"
     ]
    },
    {
     "name": "stdout",
     "output_type": "stream",
     "text": [
      "Epoch 25 val loss: 0.026027688401051713, val accuracy: 0.0007073285444916114\n",
      "Epoch 26 train loss: 0.017090587362569448, train accuracy: 0.9980875651041666\n"
     ]
    },
    {
     "name": "stderr",
     "output_type": "stream",
     "text": [
      " 26%|██▌       | 26/100 [1:57:08<5:33:45, 270.61s/it]"
     ]
    },
    {
     "name": "stdout",
     "output_type": "stream",
     "text": [
      "Epoch 26 val loss: 0.026543256861377346, val accuracy: 0.0006895708791844119\n",
      "Epoch 27 train loss: 0.01308753838626823, train accuracy: 0.9988199869791666\n"
     ]
    },
    {
     "name": "stderr",
     "output_type": "stream",
     "text": [
      " 27%|██▋       | 27/100 [2:01:39<5:29:25, 270.76s/it]"
     ]
    },
    {
     "name": "stdout",
     "output_type": "stream",
     "text": [
      "Epoch 27 val loss: 0.026960029653237596, val accuracy: 0.0007041200960454265\n",
      "Epoch 28 train loss: 0.018225314963880617, train accuracy: 0.9970296223958334\n"
     ]
    },
    {
     "name": "stderr",
     "output_type": "stream",
     "text": [
      " 28%|██▊       | 28/100 [2:06:09<5:24:42, 270.59s/it]"
     ]
    },
    {
     "name": "stdout",
     "output_type": "stream",
     "text": [
      "Epoch 28 val loss: 0.0274172485054679, val accuracy: 0.0007067408608894387\n",
      "Epoch 29 train loss: 0.010831462442486858, train accuracy: 0.9988606770833334\n"
     ]
    },
    {
     "name": "stderr",
     "output_type": "stream",
     "text": [
      " 29%|██▉       | 29/100 [2:10:40<5:20:07, 270.53s/it]"
     ]
    },
    {
     "name": "stdout",
     "output_type": "stream",
     "text": [
      "Epoch 29 val loss: 0.027749620160573443, val accuracy: 0.0007147381606417109\n",
      "Epoch 30 train loss: 0.01528173558714722, train accuracy: 0.9977213541666666\n"
     ]
    },
    {
     "name": "stderr",
     "output_type": "stream",
     "text": [
      " 30%|███       | 30/100 [2:15:11<5:16:03, 270.90s/it]"
     ]
    },
    {
     "name": "stdout",
     "output_type": "stream",
     "text": [
      "Epoch 30 val loss: 0.028321418775003736, val accuracy: 0.0006792228300273118\n",
      "Epoch 31 train loss: 0.00964407212450169, train accuracy: 0.9988606770833334\n"
     ]
    },
    {
     "name": "stderr",
     "output_type": "stream",
     "text": [
      " 31%|███       | 31/100 [2:19:42<5:11:16, 270.68s/it]"
     ]
    },
    {
     "name": "stdout",
     "output_type": "stream",
     "text": [
      "Epoch 31 val loss: 0.028578630272712693, val accuracy: 0.0006699151428543213\n",
      "Epoch 32 train loss: 0.01687245453649666, train accuracy: 0.9972695534427961\n"
     ]
    },
    {
     "name": "stderr",
     "output_type": "stream",
     "text": [
      " 32%|███▏      | 32/100 [2:24:12<5:06:40, 270.59s/it]"
     ]
    },
    {
     "name": "stdout",
     "output_type": "stream",
     "text": [
      "Epoch 32 val loss: 0.029139237850154657, val accuracy: 0.0006828839568554336\n",
      "Epoch 33 train loss: 0.011911250447155908, train accuracy: 0.9982334884504477\n"
     ]
    },
    {
     "name": "stderr",
     "output_type": "stream",
     "text": [
      " 33%|███▎      | 33/100 [2:28:43<5:02:16, 270.69s/it]"
     ]
    },
    {
     "name": "stdout",
     "output_type": "stream",
     "text": [
      "Epoch 33 val loss: 0.029223881484437653, val accuracy: 0.0006731235962992185\n",
      "Epoch 34 train loss: 0.02068909621448256, train accuracy: 0.9957191205273072\n"
     ]
    },
    {
     "name": "stderr",
     "output_type": "stream",
     "text": [
      " 34%|███▍      | 34/100 [2:33:13<4:57:29, 270.45s/it]"
     ]
    },
    {
     "name": "stdout",
     "output_type": "stream",
     "text": [
      "Epoch 34 val loss: 0.029703619495329143, val accuracy: 0.0006855047216994456\n",
      "Epoch 35 train loss: 0.018143160079489462, train accuracy: 0.9965006510416666\n"
     ]
    },
    {
     "name": "stderr",
     "output_type": "stream",
     "text": [
      " 35%|███▌      | 35/100 [2:37:43<4:52:53, 270.36s/it]"
     ]
    },
    {
     "name": "stdout",
     "output_type": "stream",
     "text": [
      "Epoch 35 val loss: 0.02962800473504641, val accuracy: 0.0006849170380972728\n",
      "Epoch 36 train loss: 0.022246064399951138, train accuracy: 0.9956784304231405\n"
     ]
    },
    {
     "name": "stderr",
     "output_type": "stream",
     "text": [
      " 36%|███▌      | 36/100 [2:42:13<4:48:08, 270.13s/it]"
     ]
    },
    {
     "name": "stdout",
     "output_type": "stream",
     "text": [
      "Epoch 36 val loss: 0.030373254665309494, val accuracy: 0.0006739813003392877\n",
      "Epoch 37 train loss: 0.02417115735685608, train accuracy: 0.9947341394921144\n"
     ]
    },
    {
     "name": "stderr",
     "output_type": "stream",
     "text": [
      " 37%|███▋      | 37/100 [2:46:42<4:43:22, 269.89s/it]"
     ]
    },
    {
     "name": "stdout",
     "output_type": "stream",
     "text": [
      "Epoch 37 val loss: 0.030243091077782173, val accuracy: 0.0006830189670743817\n",
      "Epoch 38 train loss: 0.02361199142372546, train accuracy: 0.995372553045551\n"
     ]
    },
    {
     "name": "stderr",
     "output_type": "stream",
     "text": [
      " 38%|███▊      | 38/100 [2:51:11<4:38:40, 269.69s/it]"
     ]
    },
    {
     "name": "stdout",
     "output_type": "stream",
     "text": [
      "Epoch 38 val loss: 0.030910008867808293, val accuracy: 0.0006725359076983334\n",
      "Epoch 39 train loss: 0.025888973197046045, train accuracy: 0.9941364154219627\n"
     ]
    },
    {
     "name": "stderr",
     "output_type": "stream",
     "text": [
      " 39%|███▉      | 39/100 [2:55:41<4:34:05, 269.60s/it]"
     ]
    },
    {
     "name": "stdout",
     "output_type": "stream",
     "text": [
      "Epoch 39 val loss: 0.030832416217065586, val accuracy: 0.0006793578352475478\n",
      "Epoch 40 train loss: 0.011472567542417286, train accuracy: 0.9983274961511294\n"
     ]
    },
    {
     "name": "stderr",
     "output_type": "stream",
     "text": [
      " 40%|████      | 40/100 [3:00:11<4:29:46, 269.77s/it]"
     ]
    },
    {
     "name": "stdout",
     "output_type": "stream",
     "text": [
      "Epoch 40 val loss: 0.031326977609188435, val accuracy: 0.0006771897487854726\n",
      "Epoch 41 train loss: 0.008300548084662296, train accuracy: 0.9988199869791666\n"
     ]
    },
    {
     "name": "stderr",
     "output_type": "stream",
     "text": [
      " 41%|████      | 41/100 [3:04:40<4:25:08, 269.64s/it]"
     ]
    },
    {
     "name": "stdout",
     "output_type": "stream",
     "text": [
      "Epoch 41 val loss: 0.03142430789516261, val accuracy: 0.0006725359076983334\n",
      "Epoch 42 train loss: 0.006369074624672066, train accuracy: 0.9994303385416666\n"
     ]
    },
    {
     "name": "stderr",
     "output_type": "stream",
     "text": [
      " 42%|████▏     | 42/100 [3:09:10<4:20:41, 269.69s/it]"
     ]
    },
    {
     "name": "stdout",
     "output_type": "stream",
     "text": [
      "Epoch 42 val loss: 0.03182098282459237, val accuracy: 0.0006824312784734967\n",
      "Epoch 43 train loss: 0.004402965827466687, train accuracy: 0.99951171875\n"
     ]
    },
    {
     "name": "stderr",
     "output_type": "stream",
     "text": [
      " 43%|████▎     | 43/100 [3:13:39<4:16:06, 269.58s/it]"
     ]
    },
    {
     "name": "stdout",
     "output_type": "stream",
     "text": [
      "Epoch 43 val loss: 0.031963706216489016, val accuracy: 0.000681843594871324\n",
      "Epoch 44 train loss: 0.004093705266617083, train accuracy: 0.9996337890625\n"
     ]
    },
    {
     "name": "stderr",
     "output_type": "stream",
     "text": [
      " 44%|████▍     | 44/100 [3:18:09<4:11:43, 269.70s/it]"
     ]
    },
    {
     "name": "stdout",
     "output_type": "stream",
     "text": [
      "Epoch 44 val loss: 0.032320102082527315, val accuracy: 0.0006883955069813541\n",
      "Epoch 45 train loss: 0.003775933545208924, train accuracy: 0.9995524088541666\n"
     ]
    },
    {
     "name": "stderr",
     "output_type": "stream",
     "text": [
      " 45%|████▌     | 45/100 [3:22:39<4:07:23, 269.89s/it]"
     ]
    },
    {
     "name": "stdout",
     "output_type": "stream",
     "text": [
      "Epoch 45 val loss: 0.03247049005988939, val accuracy: 0.000685774742137342\n",
      "Epoch 46 train loss: 0.003997379310021643, train accuracy: 0.9996337890625\n"
     ]
    },
    {
     "name": "stderr",
     "output_type": "stream",
     "text": [
      " 46%|████▌     | 46/100 [3:27:09<4:02:53, 269.88s/it]"
     ]
    },
    {
     "name": "stdout",
     "output_type": "stream",
     "text": [
      "Epoch 46 val loss: 0.03281387311826013, val accuracy: 0.000684464359715336\n",
      "Epoch 47 train loss: 0.00345980384251258, train accuracy: 0.9995930989583334\n"
     ]
    },
    {
     "name": "stderr",
     "output_type": "stream",
     "text": [
      " 47%|████▋     | 47/100 [3:31:39<3:58:21, 269.84s/it]"
     ]
    },
    {
     "name": "stdout",
     "output_type": "stream",
     "text": [
      "Epoch 47 val loss: 0.03293458618041214, val accuracy: 0.0006910162718253662\n",
      "Epoch 48 train loss: 0.0030524964871195457, train accuracy: 0.9996744791666666\n"
     ]
    },
    {
     "name": "stderr",
     "output_type": "stream",
     "text": [
      " 48%|████▊     | 48/100 [3:36:08<3:53:41, 269.63s/it]"
     ]
    },
    {
     "name": "stdout",
     "output_type": "stream",
     "text": [
      "Epoch 48 val loss: 0.0331967024945525, val accuracy: 0.0006805332124493179\n",
      "Epoch 49 train loss: 0.003359771246323362, train accuracy: 0.9994303385416666\n"
     ]
    },
    {
     "name": "stderr",
     "output_type": "stream",
     "text": [
      " 49%|████▉     | 49/100 [3:40:37<3:48:55, 269.32s/it]"
     ]
    },
    {
     "name": "stdout",
     "output_type": "stream",
     "text": [
      "Epoch 49 val loss: 0.03343164644877969, val accuracy: 0.0006792228300273118\n",
      "Epoch 50 train loss: 0.0030360104634989207, train accuracy: 0.9995930989583334\n"
     ]
    },
    {
     "name": "stderr",
     "output_type": "stream",
     "text": [
      " 50%|█████     | 50/100 [3:45:07<3:44:43, 269.66s/it]"
     ]
    },
    {
     "name": "stdout",
     "output_type": "stream",
     "text": [
      "Epoch 50 val loss: 0.03361895979350543, val accuracy: 0.000685774742137342\n",
      "Epoch 51 train loss: 0.002761133214031967, train accuracy: 0.99951171875\n"
     ]
    },
    {
     "name": "stderr",
     "output_type": "stream",
     "text": [
      " 51%|█████     | 51/100 [3:49:38<3:40:22, 269.84s/it]"
     ]
    },
    {
     "name": "stdout",
     "output_type": "stream",
     "text": [
      "Epoch 51 val loss: 0.03387122136640373, val accuracy: 0.0006792228300273118\n",
      "Epoch 52 train loss: 0.002640938300222236, train accuracy: 0.9995524088541666\n"
     ]
    },
    {
     "name": "stderr",
     "output_type": "stream",
     "text": [
      " 52%|█████▏    | 52/100 [3:54:07<3:35:54, 269.88s/it]"
     ]
    },
    {
     "name": "stdout",
     "output_type": "stream",
     "text": [
      "Epoch 52 val loss: 0.034056427414006975, val accuracy: 0.0006726709179172817\n",
      "Epoch 53 train loss: 0.0027280685941756624, train accuracy: 0.9995930989583334\n"
     ]
    },
    {
     "name": "stderr",
     "output_type": "stream",
     "text": [
      " 53%|█████▎    | 53/100 [3:58:38<3:31:28, 269.97s/it]"
     ]
    },
    {
     "name": "stdout",
     "output_type": "stream",
     "text": [
      "Epoch 53 val loss: 0.0343045319778253, val accuracy: 0.0006792228300273118\n",
      "Epoch 54 train loss: 0.002291918997798348, train accuracy: 0.9996744791666666\n"
     ]
    },
    {
     "name": "stderr",
     "output_type": "stream",
     "text": [
      " 54%|█████▍    | 54/100 [4:03:08<3:26:58, 269.97s/it]"
     ]
    },
    {
     "name": "stdout",
     "output_type": "stream",
     "text": [
      "Epoch 54 val loss: 0.034449078739989085, val accuracy: 0.0006799455238484329\n",
      "Epoch 55 train loss: 0.005268033874623749, train accuracy: 0.9989378477136294\n"
     ]
    },
    {
     "name": "stderr",
     "output_type": "stream",
     "text": [
      " 55%|█████▌    | 55/100 [4:07:39<3:22:42, 270.28s/it]"
     ]
    },
    {
     "name": "stdout",
     "output_type": "stream",
     "text": [
      "Epoch 55 val loss: 0.03475458227680338, val accuracy: 0.0006806682176695539\n",
      "Epoch 56 train loss: 0.003768288649249977, train accuracy: 0.9993040586511294\n"
     ]
    },
    {
     "name": "stderr",
     "output_type": "stream",
     "text": [
      " 56%|█████▌    | 56/100 [4:12:08<3:18:04, 270.11s/it]"
     ]
    },
    {
     "name": "stdout",
     "output_type": "stream",
     "text": [
      "Epoch 56 val loss: 0.034852163218204224, val accuracy: 0.0006792228300273118\n",
      "Epoch 57 train loss: 0.00940329623396489, train accuracy: 0.9975992838541666\n"
     ]
    },
    {
     "name": "stderr",
     "output_type": "stream",
     "text": [
      " 57%|█████▋    | 57/100 [4:16:39<3:13:35, 270.14s/it]"
     ]
    },
    {
     "name": "stdout",
     "output_type": "stream",
     "text": [
      "Epoch 57 val loss: 0.03498948208240405, val accuracy: 0.0006688747758714995\n",
      "Epoch 58 train loss: 0.004122256999835372, train accuracy: 0.9991861979166666\n"
     ]
    },
    {
     "name": "stderr",
     "output_type": "stream",
     "text": [
      " 58%|█████▊    | 58/100 [4:21:08<3:08:59, 269.99s/it]"
     ]
    },
    {
     "name": "stdout",
     "output_type": "stream",
     "text": [
      "Epoch 58 val loss: 0.035041812921042255, val accuracy: 0.0006754266879815297\n",
      "Epoch 59 train loss: 0.005514287663269594, train accuracy: 0.9988157774011294\n"
     ]
    },
    {
     "name": "stderr",
     "output_type": "stream",
     "text": [
      " 59%|█████▉    | 59/100 [4:25:38<3:04:28, 269.97s/it]"
     ]
    },
    {
     "name": "stdout",
     "output_type": "stream",
     "text": [
      "Epoch 59 val loss: 0.03544827172996933, val accuracy: 0.0006726709179172817\n",
      "Epoch 60 train loss: 0.004003303204929883, train accuracy: 0.9991819883386294\n"
     ]
    },
    {
     "name": "stderr",
     "output_type": "stream",
     "text": [
      " 60%|██████    | 60/100 [4:30:08<3:00:01, 270.03s/it]"
     ]
    },
    {
     "name": "stdout",
     "output_type": "stream",
     "text": [
      "Epoch 60 val loss: 0.03550691454252994, val accuracy: 0.0006694624644723845\n",
      "Epoch 61 train loss: 0.00415193357609193, train accuracy: 0.999267578125\n"
     ]
    },
    {
     "name": "stderr",
     "output_type": "stream",
     "text": [
      " 61%|██████    | 61/100 [4:34:38<2:55:28, 269.95s/it]"
     ]
    },
    {
     "name": "stdout",
     "output_type": "stream",
     "text": [
      "Epoch 61 val loss: 0.03596621285905297, val accuracy: 0.0006569463288532093\n",
      "Epoch 62 train loss: 0.004797116671397816, train accuracy: 0.9991455078125\n"
     ]
    },
    {
     "name": "stderr",
     "output_type": "stream",
     "text": [
      " 62%|██████▏   | 62/100 [4:39:08<2:50:56, 269.90s/it]"
     ]
    },
    {
     "name": "stdout",
     "output_type": "stream",
     "text": [
      "Epoch 62 val loss: 0.03590946843743284, val accuracy: 0.0006470509530793337\n",
      "Epoch 63 train loss: 0.0254128664109885, train accuracy: 0.9936102504531542\n"
     ]
    },
    {
     "name": "stderr",
     "output_type": "stream",
     "text": [
      " 63%|██████▎   | 63/100 [4:43:38<2:46:29, 269.97s/it]"
     ]
    },
    {
     "name": "stdout",
     "output_type": "stream",
     "text": [
      "Epoch 63 val loss: 0.03656950671974343, val accuracy: 0.0006626405369231701\n",
      "Epoch 64 train loss: 0.09166296509404977, train accuracy: 0.9730547325064739\n"
     ]
    },
    {
     "name": "stderr",
     "output_type": "stream",
     "text": [
      " 64%|██████▍   | 64/100 [4:48:09<2:42:06, 270.17s/it]"
     ]
    },
    {
     "name": "stdout",
     "output_type": "stream",
     "text": [
      "Epoch 64 val loss: 0.03551026919831049, val accuracy: 0.0006752916827612937\n",
      "Epoch 65 train loss: 0.02840786589270768, train accuracy: 0.992397965863347\n"
     ]
    },
    {
     "name": "stderr",
     "output_type": "stream",
     "text": [
      " 65%|██████▌   | 65/100 [4:52:37<2:37:20, 269.73s/it]"
     ]
    },
    {
     "name": "stdout",
     "output_type": "stream",
     "text": [
      "Epoch 65 val loss: 0.03561214695277529, val accuracy: 0.0006640859245654122\n",
      "Epoch 66 train loss: 0.048981552419718355, train accuracy: 0.9866452272981405\n"
     ]
    },
    {
     "name": "stderr",
     "output_type": "stream",
     "text": [
      " 66%|██████▌   | 66/100 [4:57:07<2:32:54, 269.85s/it]"
     ]
    },
    {
     "name": "stdout",
     "output_type": "stream",
     "text": [
      "Epoch 66 val loss: 0.03526096382384251, val accuracy: 0.0006686047604323154\n",
      "Epoch 67 train loss: 0.012878008060700571, train accuracy: 0.9978434244791666\n"
     ]
    },
    {
     "name": "stderr",
     "output_type": "stream",
     "text": [
      " 67%|██████▋   | 67/100 [5:01:38<2:28:34, 270.14s/it]"
     ]
    },
    {
     "name": "stdout",
     "output_type": "stream",
     "text": [
      "Epoch 67 val loss: 0.035702564939481624, val accuracy: 0.0006686047604323154\n",
      "Epoch 68 train loss: 0.009704232472965183, train accuracy: 0.9982096354166666\n"
     ]
    },
    {
     "name": "stderr",
     "output_type": "stream",
     "text": [
      " 68%|██████▊   | 68/100 [5:06:09<2:24:07, 270.23s/it]"
     ]
    },
    {
     "name": "stdout",
     "output_type": "stream",
     "text": [
      "Epoch 68 val loss: 0.035708400556122205, val accuracy: 0.0006739813003392877\n",
      "Epoch 69 train loss: 0.004689524575951509, train accuracy: 0.9995524088541666\n"
     ]
    },
    {
     "name": "stderr",
     "output_type": "stream",
     "text": [
      " 69%|██████▉   | 69/100 [5:10:39<2:19:34, 270.14s/it]"
     ]
    },
    {
     "name": "stdout",
     "output_type": "stream",
     "text": [
      "Epoch 69 val loss: 0.03594475022821129, val accuracy: 0.0006779124476053058\n",
      "Epoch 70 train loss: 0.002965708226838615, train accuracy: 0.999755859375\n"
     ]
    },
    {
     "name": "stderr",
     "output_type": "stream",
     "text": [
      " 70%|███████   | 70/100 [5:15:08<2:15:01, 270.05s/it]"
     ]
    },
    {
     "name": "stdout",
     "output_type": "stream",
     "text": [
      "Epoch 70 val loss: 0.03604662798267609, val accuracy: 0.0006680170718314303\n",
      "Epoch 71 train loss: 0.002850937773473561, train accuracy: 0.9997109596927961\n"
     ]
    },
    {
     "name": "stderr",
     "output_type": "stream",
     "text": [
      " 71%|███████   | 71/100 [5:19:39<2:10:33, 270.12s/it]"
     ]
    },
    {
     "name": "stdout",
     "output_type": "stream",
     "text": [
      "Epoch 71 val loss: 0.0362542042673054, val accuracy: 0.0006686047604323154\n",
      "Epoch 72 train loss: 0.0026970313665515278, train accuracy: 0.9995930989583334\n"
     ]
    },
    {
     "name": "stderr",
     "output_type": "stream",
     "text": [
      " 72%|███████▏  | 72/100 [5:24:09<2:06:01, 270.07s/it]"
     ]
    },
    {
     "name": "stdout",
     "output_type": "stream",
     "text": [
      "Epoch 72 val loss: 0.036341005265812715, val accuracy: 0.0006725359076983334\n",
      "Epoch 73 train loss: 0.0026266884051437955, train accuracy: 0.9997151692708334\n"
     ]
    },
    {
     "name": "stderr",
     "output_type": "stream",
     "text": [
      " 73%|███████▎  | 73/100 [5:28:38<2:01:26, 269.89s/it]"
     ]
    },
    {
     "name": "stdout",
     "output_type": "stream",
     "text": [
      "Epoch 73 val loss: 0.03650949338025512, val accuracy: 0.0006705028314552063\n",
      "Epoch 74 train loss: 0.0021521355586931654, train accuracy: 0.9996744791666666\n"
     ]
    },
    {
     "name": "stderr",
     "output_type": "stream",
     "text": [
      " 74%|███████▍  | 74/100 [5:33:09<1:57:01, 270.04s/it]"
     ]
    },
    {
     "name": "stdout",
     "output_type": "stream",
     "text": [
      "Epoch 74 val loss: 0.03661918960054302, val accuracy: 0.0006752916827612937\n",
      "Epoch 75 train loss: 0.002066273134914809, train accuracy: 0.999755859375\n"
     ]
    },
    {
     "name": "stderr",
     "output_type": "stream",
     "text": [
      " 75%|███████▌  | 75/100 [5:37:39<1:52:30, 270.02s/it]"
     ]
    },
    {
     "name": "stdout",
     "output_type": "stream",
     "text": [
      "Epoch 75 val loss: 0.03677872098240025, val accuracy: 0.0006751566725423455\n",
      "Epoch 76 train loss: 0.0029855045898633157, train accuracy: 0.99951171875\n"
     ]
    },
    {
     "name": "stderr",
     "output_type": "stream",
     "text": [
      " 76%|███████▌  | 76/100 [5:42:08<1:47:52, 269.70s/it]"
     ]
    },
    {
     "name": "stdout",
     "output_type": "stream",
     "text": [
      "Epoch 76 val loss: 0.036924643070255496, val accuracy: 0.0006725359076983334\n",
      "Epoch 77 train loss: 0.002117586912087669, train accuracy: 0.9997151692708334\n"
     ]
    },
    {
     "name": "stderr",
     "output_type": "stream",
     "text": [
      " 77%|███████▋  | 77/100 [5:46:38<1:43:28, 269.93s/it]"
     ]
    },
    {
     "name": "stdout",
     "output_type": "stream",
     "text": [
      "Epoch 77 val loss: 0.037003647037417806, val accuracy: 0.0006751566725423455\n",
      "Epoch 78 train loss: 0.0030293429463199573, train accuracy: 0.9994303385416666\n"
     ]
    },
    {
     "name": "stderr",
     "output_type": "stream",
     "text": [
      " 78%|███████▊  | 78/100 [5:51:08<1:38:56, 269.82s/it]"
     ]
    },
    {
     "name": "stdout",
     "output_type": "stream",
     "text": [
      "Epoch 78 val loss: 0.03712841841407528, val accuracy: 0.0006718132138772124\n",
      "Epoch 79 train loss: 0.0020766196539625525, train accuracy: 0.9996337890625\n"
     ]
    },
    {
     "name": "stderr",
     "output_type": "stream",
     "text": [
      " 79%|███████▉  | 79/100 [5:55:38<1:34:29, 269.99s/it]"
     ]
    },
    {
     "name": "stdout",
     "output_type": "stream",
     "text": [
      "Epoch 79 val loss: 0.0372708300462868, val accuracy: 0.0006699151428543213\n",
      "Epoch 80 train loss: 0.002333519210878876, train accuracy: 0.9995524088541666\n"
     ]
    },
    {
     "name": "stderr",
     "output_type": "stream",
     "text": [
      " 80%|████████  | 80/100 [6:00:08<1:29:58, 269.91s/it]"
     ]
    },
    {
     "name": "stdout",
     "output_type": "stream",
     "text": [
      "Epoch 80 val loss: 0.03744087008092676, val accuracy: 0.0006712255252763274\n",
      "Epoch 81 train loss: 0.0019832484558719443, train accuracy: 0.9996744791666666\n"
     ]
    },
    {
     "name": "stderr",
     "output_type": "stream",
     "text": [
      " 81%|████████  | 81/100 [6:04:37<1:25:26, 269.82s/it]"
     ]
    },
    {
     "name": "stdout",
     "output_type": "stream",
     "text": [
      "Epoch 81 val loss: 0.03752901089427376, val accuracy: 0.0006725359076983334\n",
      "Epoch 82 train loss: 0.0019392524282011436, train accuracy: 0.9995930989583334\n"
     ]
    },
    {
     "name": "stderr",
     "output_type": "stream",
     "text": [
      " 82%|████████▏ | 82/100 [6:09:08<1:20:59, 269.95s/it]"
     ]
    },
    {
     "name": "stdout",
     "output_type": "stream",
     "text": [
      "Epoch 82 val loss: 0.03773094639207084, val accuracy: 0.0006751566725423455\n",
      "Epoch 83 train loss: 0.001507156403931731, train accuracy: 0.999755859375\n"
     ]
    },
    {
     "name": "stderr",
     "output_type": "stream",
     "text": [
      " 83%|████████▎ | 83/100 [6:13:37<1:16:26, 269.78s/it]"
     ]
    },
    {
     "name": "stdout",
     "output_type": "stream",
     "text": [
      "Epoch 83 val loss: 0.03779505755588617, val accuracy: 0.0006712255252763274\n",
      "Epoch 84 train loss: 0.002012868617081646, train accuracy: 0.9996337890625\n"
     ]
    },
    {
     "name": "stderr",
     "output_type": "stream",
     "text": [
      " 84%|████████▍ | 84/100 [6:18:06<1:11:55, 269.72s/it]"
     ]
    },
    {
     "name": "stdout",
     "output_type": "stream",
     "text": [
      "Epoch 84 val loss: 0.03801826725306826, val accuracy: 0.0006751566725423455\n",
      "Epoch 85 train loss: 0.0013137802707205992, train accuracy: 0.9997965494791666\n"
     ]
    },
    {
     "name": "stderr",
     "output_type": "stream",
     "text": [
      " 85%|████████▌ | 85/100 [6:22:37<1:07:27, 269.81s/it]"
     ]
    },
    {
     "name": "stdout",
     "output_type": "stream",
     "text": [
      "Epoch 85 val loss: 0.03804256531345249, val accuracy: 0.0006705028314552063\n",
      "Epoch 86 train loss: 0.0061552376776793, train accuracy: 0.9985758463541666\n"
     ]
    },
    {
     "name": "stderr",
     "output_type": "stream",
     "text": [
      " 86%|████████▌ | 86/100 [6:27:06<1:02:55, 269.66s/it]"
     ]
    },
    {
     "name": "stdout",
     "output_type": "stream",
     "text": [
      "Epoch 86 val loss: 0.03802501463482181, val accuracy: 0.0006757443611432306\n",
      "Epoch 87 train loss: 0.00284158245024931, train accuracy: 0.9993489583333334\n"
     ]
    },
    {
     "name": "stderr",
     "output_type": "stream",
     "text": [
      " 87%|████████▋ | 87/100 [6:31:36<58:26, 269.72s/it]  "
     ]
    },
    {
     "name": "stdout",
     "output_type": "stream",
     "text": [
      "Epoch 87 val loss: 0.03805941409290497, val accuracy: 0.0006895708791844119\n",
      "Epoch 88 train loss: 0.0023280613831957453, train accuracy: 0.9995524088541666\n"
     ]
    },
    {
     "name": "stderr",
     "output_type": "stream",
     "text": [
      " 88%|████████▊ | 88/100 [6:36:05<53:56, 269.71s/it]"
     ]
    },
    {
     "name": "stdout",
     "output_type": "stream",
     "text": [
      "Epoch 88 val loss: 0.038348487462424787, val accuracy: 0.0006770547435652366\n",
      "Epoch 89 train loss: 0.002270266202079559, train accuracy: 0.9994710286458334\n"
     ]
    },
    {
     "name": "stderr",
     "output_type": "stream",
     "text": [
      " 89%|████████▉ | 89/100 [6:40:35<49:25, 269.63s/it]"
     ]
    },
    {
     "name": "stdout",
     "output_type": "stream",
     "text": [
      "Epoch 89 val loss: 0.03842313639152294, val accuracy: 0.0006764670549643516\n",
      "Epoch 90 train loss: 0.002037372736898154, train accuracy: 0.9995930989583334\n"
     ]
    },
    {
     "name": "stderr",
     "output_type": "stream",
     "text": [
      " 90%|█████████ | 90/100 [6:45:04<44:53, 269.38s/it]"
     ]
    },
    {
     "name": "stdout",
     "output_type": "stream",
     "text": [
      "Epoch 90 val loss: 0.03864455071122644, val accuracy: 0.0006737112799013913\n",
      "Epoch 91 train loss: 0.0015413953627406347, train accuracy: 0.9996744791666666\n"
     ]
    },
    {
     "name": "stderr",
     "output_type": "stream",
     "text": [
      " 91%|█████████ | 91/100 [6:49:32<40:20, 268.97s/it]"
     ]
    },
    {
     "name": "stdout",
     "output_type": "stream",
     "text": [
      "Epoch 91 val loss: 0.03868032165599005, val accuracy: 0.0006770547435652366\n",
      "Epoch 92 train loss: 0.0018795455783523114, train accuracy: 0.9997151692708334\n"
     ]
    },
    {
     "name": "stderr",
     "output_type": "stream",
     "text": [
      " 92%|█████████▏| 92/100 [6:54:01<35:51, 268.95s/it]"
     ]
    },
    {
     "name": "stdout",
     "output_type": "stream",
     "text": [
      "Epoch 92 val loss: 0.038896935932270754, val accuracy: 0.0006757443611432306\n",
      "Epoch 93 train loss: 0.0018030191498231336, train accuracy: 0.9996744791666666\n"
     ]
    },
    {
     "name": "stderr",
     "output_type": "stream",
     "text": [
      " 93%|█████████▎| 93/100 [6:58:30<31:24, 269.16s/it]"
     ]
    },
    {
     "name": "stdout",
     "output_type": "stream",
     "text": [
      "Epoch 93 val loss: 0.03892808694721108, val accuracy: 0.0006796755084092486\n",
      "Epoch 94 train loss: 0.0018138640916731674, train accuracy: 0.9996337890625\n"
     ]
    },
    {
     "name": "stderr",
     "output_type": "stream",
     "text": [
      " 94%|█████████▍| 94/100 [7:03:00<26:55, 269.21s/it]"
     ]
    },
    {
     "name": "stdout",
     "output_type": "stream",
     "text": [
      "Epoch 94 val loss: 0.03907679039853725, val accuracy: 0.0006836066556752668\n",
      "Epoch 95 train loss: 0.005388520754725808, train accuracy: 0.998779296875\n"
     ]
    },
    {
     "name": "stderr",
     "output_type": "stream",
     "text": [
      " 95%|█████████▌| 95/100 [7:07:29<22:26, 269.21s/it]"
     ]
    },
    {
     "name": "stdout",
     "output_type": "stream",
     "text": [
      "Epoch 95 val loss: 0.039040443922040924, val accuracy: 0.0006822962732532607\n",
      "Epoch 96 train loss: 0.016080084934704548, train accuracy: 0.9961133934557438\n"
     ]
    },
    {
     "name": "stderr",
     "output_type": "stream",
     "text": [
      " 96%|█████████▌| 96/100 [7:11:58<17:56, 269.10s/it]"
     ]
    },
    {
     "name": "stdout",
     "output_type": "stream",
     "text": [
      "Epoch 96 val loss: 0.038715381743883136, val accuracy: 0.0006652613017671822\n",
      "Epoch 97 train loss: 0.1556118214405918, train accuracy: 0.957408685858051\n"
     ]
    },
    {
     "name": "stderr",
     "output_type": "stream",
     "text": [
      " 97%|█████████▋| 97/100 [7:16:27<13:27, 269.30s/it]"
     ]
    },
    {
     "name": "stdout",
     "output_type": "stream",
     "text": [
      "Epoch 97 val loss: 0.03872027200406448, val accuracy: 0.0006530151815871911\n",
      "Epoch 98 train loss: 0.05457333811015511, train accuracy: 0.9849923669050137\n"
     ]
    },
    {
     "name": "stderr",
     "output_type": "stream",
     "text": [
      " 98%|█████████▊| 98/100 [7:20:56<08:58, 269.20s/it]"
     ]
    },
    {
     "name": "stdout",
     "output_type": "stream",
     "text": [
      "Epoch 98 val loss: 0.03823487065215112, val accuracy: 0.0007016343364216504\n",
      "Epoch 99 train loss: 0.038398023849974074, train accuracy: 0.9892858744909366\n"
     ]
    },
    {
     "name": "stderr",
     "output_type": "stream",
     "text": [
      " 99%|█████████▉| 99/100 [7:25:25<04:29, 269.08s/it]"
     ]
    },
    {
     "name": "stdout",
     "output_type": "stream",
     "text": [
      "Epoch 99 val loss: 0.038275171309979476, val accuracy: 0.0006954000974733212\n",
      "Epoch 100 train loss: 0.011081159510164676, train accuracy: 0.9982503255208334\n"
     ]
    },
    {
     "name": "stderr",
     "output_type": "stream",
     "text": [
      "100%|██████████| 100/100 [7:29:55<00:00, 269.95s/it]"
     ]
    },
    {
     "name": "stdout",
     "output_type": "stream",
     "text": [
      "Epoch 100 val loss: 0.03846991122148854, val accuracy: 0.0007016343364216504\n"
     ]
    },
    {
     "name": "stderr",
     "output_type": "stream",
     "text": [
      "\n"
     ]
    }
   ],
   "source": [
    "from tqdm import tqdm\n",
    "\n",
    "results = pd.DataFrame(columns=[\"epoch\", \"train_loss\", \"train_accuracy\", \"val_loss\", \"val_accuracy\"])\n",
    "\n",
    "train_loader = DataLoader(train, batch_size=BATCH_SIZE, shuffle=True)\n",
    "for epoch in tqdm(range(1, NUM_EPOCHS+1)):\n",
    "    model.train()\n",
    "    train_loss = 0\n",
    "    train_accuracy = 0\n",
    "    for batch in train_loader:\n",
    "        x = batch[\"array\"]\n",
    "        x = torch.stack(x).to(device)\n",
    "        x = x.unsqueeze(1)\n",
    "        x = x.permute(2, 1, 0)\n",
    "        y = batch[\"label\"].to(device)\n",
    "        y_pred = model(x.float())\n",
    "        loss = criterion(y_pred, y)\n",
    "        train_loss += loss.item()\n",
    "        optimizer.zero_grad()\n",
    "        loss.backward()\n",
    "        optimizer.step()\n",
    "        scheduler.step()\n",
    "        train_accuracy += calculate_accuracy(y_pred, y)\n",
    "    train_loss /= len(train_loader)\n",
    "    train_accuracy = train_accuracy / len(train_loader)\n",
    "    print(f\"Epoch {epoch} train loss: {train_loss}, train accuracy: {train_accuracy}\")\n",
    "\n",
    "    model.eval()\n",
    "    with torch.no_grad():\n",
    "        val_loss = 0\n",
    "        val_accuracy = 0\n",
    "        for batch in DataLoader(validation, batch_size=BATCH_SIZE):\n",
    "            x = batch[\"array\"]\n",
    "            x = torch.stack(x).to(device)\n",
    "            x = x.unsqueeze(1)\n",
    "            x = x.permute(2, 1, 0)\n",
    "            y = batch[\"label\"].to(device)\n",
    "            y_pred = model(x.float())\n",
    "            val_loss += criterion(y_pred, y).item()\n",
    "            val_accuracy += calculate_accuracy(y_pred, y)\n",
    "        val_loss /= len(validation)\n",
    "        val_accuracy = val_accuracy / len(validation)\n",
    "        print(f\"Epoch {epoch} val loss: {val_loss}, val accuracy: {val_accuracy}\")\n",
    "        if val_loss < best_val_loss:\n",
    "            best_val_loss = val_loss\n",
    "            torch.save(model.state_dict(), \"best_model.pth\")\n",
    "        row = pd.DataFrame(\n",
    "            {\n",
    "                \"epoch\": [epoch],\n",
    "                \"train_loss\": [loss.item()],\n",
    "                \"train_accuracy\": [train_accuracy],\n",
    "                \"val_loss\": [val_loss],\n",
    "                \"val_accuracy\": [val_accuracy],\n",
    "            }\n",
    "        )\n",
    "        results = pd.merge(results, row, how=\"outer\")\n",
    "    # break"
   ]
  },
  {
   "cell_type": "code",
   "execution_count": 18,
   "metadata": {},
   "outputs": [
    {
     "data": {
      "text/html": [
       "<div>\n",
       "<style scoped>\n",
       "    .dataframe tbody tr th:only-of-type {\n",
       "        vertical-align: middle;\n",
       "    }\n",
       "\n",
       "    .dataframe tbody tr th {\n",
       "        vertical-align: top;\n",
       "    }\n",
       "\n",
       "    .dataframe thead th {\n",
       "        text-align: right;\n",
       "    }\n",
       "</style>\n",
       "<table border=\"1\" class=\"dataframe\">\n",
       "  <thead>\n",
       "    <tr style=\"text-align: right;\">\n",
       "      <th></th>\n",
       "      <th>epoch</th>\n",
       "      <th>train_loss</th>\n",
       "      <th>train_accuracy</th>\n",
       "      <th>val_loss</th>\n",
       "      <th>val_accuracy</th>\n",
       "    </tr>\n",
       "  </thead>\n",
       "  <tbody>\n",
       "    <tr>\n",
       "      <th>0</th>\n",
       "      <td>1</td>\n",
       "      <td>2.075794</td>\n",
       "      <td>0.138165</td>\n",
       "      <td>0.008368</td>\n",
       "      <td>0.000553</td>\n",
       "    </tr>\n",
       "    <tr>\n",
       "      <th>1</th>\n",
       "      <td>2</td>\n",
       "      <td>2.048750</td>\n",
       "      <td>0.207299</td>\n",
       "      <td>0.008363</td>\n",
       "      <td>0.000594</td>\n",
       "    </tr>\n",
       "    <tr>\n",
       "      <th>2</th>\n",
       "      <td>3</td>\n",
       "      <td>1.868140</td>\n",
       "      <td>0.311392</td>\n",
       "      <td>0.008440</td>\n",
       "      <td>0.000608</td>\n",
       "    </tr>\n",
       "    <tr>\n",
       "      <th>3</th>\n",
       "      <td>4</td>\n",
       "      <td>1.539145</td>\n",
       "      <td>0.461559</td>\n",
       "      <td>0.008769</td>\n",
       "      <td>0.000595</td>\n",
       "    </tr>\n",
       "    <tr>\n",
       "      <th>4</th>\n",
       "      <td>5</td>\n",
       "      <td>1.368787</td>\n",
       "      <td>0.524557</td>\n",
       "      <td>0.009320</td>\n",
       "      <td>0.000660</td>\n",
       "    </tr>\n",
       "    <tr>\n",
       "      <th>...</th>\n",
       "      <td>...</td>\n",
       "      <td>...</td>\n",
       "      <td>...</td>\n",
       "      <td>...</td>\n",
       "      <td>...</td>\n",
       "    </tr>\n",
       "    <tr>\n",
       "      <th>95</th>\n",
       "      <td>96</td>\n",
       "      <td>0.077500</td>\n",
       "      <td>0.996113</td>\n",
       "      <td>0.038715</td>\n",
       "      <td>0.000665</td>\n",
       "    </tr>\n",
       "    <tr>\n",
       "      <th>96</th>\n",
       "      <td>97</td>\n",
       "      <td>0.123601</td>\n",
       "      <td>0.957409</td>\n",
       "      <td>0.038720</td>\n",
       "      <td>0.000653</td>\n",
       "    </tr>\n",
       "    <tr>\n",
       "      <th>97</th>\n",
       "      <td>98</td>\n",
       "      <td>0.067961</td>\n",
       "      <td>0.984992</td>\n",
       "      <td>0.038235</td>\n",
       "      <td>0.000702</td>\n",
       "    </tr>\n",
       "    <tr>\n",
       "      <th>98</th>\n",
       "      <td>99</td>\n",
       "      <td>0.036201</td>\n",
       "      <td>0.989286</td>\n",
       "      <td>0.038275</td>\n",
       "      <td>0.000695</td>\n",
       "    </tr>\n",
       "    <tr>\n",
       "      <th>99</th>\n",
       "      <td>100</td>\n",
       "      <td>0.006227</td>\n",
       "      <td>0.998250</td>\n",
       "      <td>0.038470</td>\n",
       "      <td>0.000702</td>\n",
       "    </tr>\n",
       "  </tbody>\n",
       "</table>\n",
       "<p>100 rows × 5 columns</p>\n",
       "</div>"
      ],
      "text/plain": [
       "    epoch  train_loss  train_accuracy  val_loss  val_accuracy\n",
       "0       1    2.075794        0.138165  0.008368      0.000553\n",
       "1       2    2.048750        0.207299  0.008363      0.000594\n",
       "2       3    1.868140        0.311392  0.008440      0.000608\n",
       "3       4    1.539145        0.461559  0.008769      0.000595\n",
       "4       5    1.368787        0.524557  0.009320      0.000660\n",
       "..    ...         ...             ...       ...           ...\n",
       "95     96    0.077500        0.996113  0.038715      0.000665\n",
       "96     97    0.123601        0.957409  0.038720      0.000653\n",
       "97     98    0.067961        0.984992  0.038235      0.000702\n",
       "98     99    0.036201        0.989286  0.038275      0.000695\n",
       "99    100    0.006227        0.998250  0.038470      0.000702\n",
       "\n",
       "[100 rows x 5 columns]"
      ]
     },
     "execution_count": 18,
     "metadata": {},
     "output_type": "execute_result"
    }
   ],
   "source": [
    "results"
   ]
  },
  {
   "cell_type": "code",
   "execution_count": 23,
   "metadata": {},
   "outputs": [
    {
     "data": {
      "text/plain": [
       "0.0007227354653926953"
      ]
     },
     "execution_count": 23,
     "metadata": {},
     "output_type": "execute_result"
    }
   ],
   "source": [
    "results['val_accuracy'].max()"
   ]
  },
  {
   "cell_type": "code",
   "execution_count": 20,
   "metadata": {},
   "outputs": [],
   "source": [
    "results.to_csv('lstm_only_selected.csv')"
   ]
  },
  {
   "cell_type": "code",
   "execution_count": 19,
   "metadata": {},
   "outputs": [
    {
     "name": "stdout",
     "output_type": "stream",
     "text": [
      "0.03846991122148854\n",
      "0.0007016343364216504\n"
     ]
    }
   ],
   "source": [
    "loaded_model = LSTMModel(16_000, 64, 2, len(subset_of_labels))\n",
    "loaded_model.load_state_dict(torch.load('best_model.pth', map_location=torch.device('cpu')))\n",
    "\n",
    "loaded_model.eval()\n",
    "\n",
    "with torch.no_grad():\n",
    "    val_loss = 0\n",
    "    val_accuracy = 0\n",
    "    for batch in DataLoader(validation, batch_size=BATCH_SIZE):\n",
    "        x = batch[\"array\"]\n",
    "        x = torch.stack(x).to(device)\n",
    "        x = x.unsqueeze(1)\n",
    "        x = x.permute(2, 1, 0)\n",
    "        y = batch[\"label\"].to(device)\n",
    "        y_pred = model(x.float())\n",
    "        val_loss += criterion(y_pred, y).item()\n",
    "        val_accuracy += calculate_accuracy(y_pred, y)\n",
    "    val_loss /= len(validation)\n",
    "    val_accuracy = val_accuracy / len(validation)\n",
    "print(val_loss)\n",
    "print(val_accuracy)"
   ]
  },
  {
   "cell_type": "code",
   "execution_count": null,
   "metadata": {},
   "outputs": [],
   "source": []
  }
 ],
 "metadata": {
  "kernelspec": {
   "display_name": "venv",
   "language": "python",
   "name": "python3"
  },
  "language_info": {
   "codemirror_mode": {
    "name": "ipython",
    "version": 3
   },
   "file_extension": ".py",
   "mimetype": "text/x-python",
   "name": "python",
   "nbconvert_exporter": "python",
   "pygments_lexer": "ipython3",
   "version": "3.10.12"
  }
 },
 "nbformat": 4,
 "nbformat_minor": 2
}
