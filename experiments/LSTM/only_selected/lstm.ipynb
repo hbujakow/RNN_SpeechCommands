{
 "cells": [
  {
   "cell_type": "code",
   "execution_count": null,
   "metadata": {},
   "outputs": [],
   "source": [
    "import json\n",
    "import pandas as pd\n",
    "from datetime import datetime\n",
    "\n",
    "import evaluate\n",
    "import numpy as np\n",
    "import torch\n",
    "from datasets import load_dataset"
   ]
  },
  {
   "cell_type": "code",
   "execution_count": null,
   "metadata": {},
   "outputs": [],
   "source": [
    "speech_data = load_dataset(\n",
    "    \"speech_commands\", \"v0.02\"\n",
    ")"
   ]
  },
  {
   "cell_type": "code",
   "execution_count": null,
   "metadata": {},
   "outputs": [],
   "source": [
    "speech_data"
   ]
  },
  {
   "cell_type": "code",
   "execution_count": null,
   "metadata": {},
   "outputs": [],
   "source": [
    "speech_data = speech_data.filter(lambda x: len(x[\"audio\"][\"array\"]) / 16_000 < 10)"
   ]
  },
  {
   "cell_type": "code",
   "execution_count": null,
   "metadata": {},
   "outputs": [],
   "source": [
    "speech_data"
   ]
  },
  {
   "cell_type": "code",
   "execution_count": null,
   "metadata": {},
   "outputs": [],
   "source": [
    "subset_of_labels = [\"up\", \"down\", \"left\", \"right\", \"on\", \"off\", \"yes\", \"no\"]"
   ]
  },
  {
   "cell_type": "code",
   "execution_count": null,
   "metadata": {},
   "outputs": [],
   "source": [
    "speech_data = speech_data.filter(lambda x: x['file'].split(\"/\")[0] in subset_of_labels)"
   ]
  },
  {
   "cell_type": "code",
   "execution_count": null,
   "metadata": {},
   "outputs": [],
   "source": [
    "speech_data"
   ]
  },
  {
   "cell_type": "code",
   "execution_count": null,
   "metadata": {},
   "outputs": [],
   "source": [
    "train = speech_data[\"train\"]\n",
    "validation = speech_data[\"validation\"]\n",
    "test = speech_data[\"test\"]"
   ]
  },
  {
   "cell_type": "code",
   "execution_count": null,
   "metadata": {},
   "outputs": [],
   "source": [
    "SEED = 1\n",
    "train = train.shuffle(seed=SEED)\n",
    "validation = validation.shuffle(seed=SEED)\n",
    "test = test.shuffle(seed=SEED)"
   ]
  },
  {
   "cell_type": "code",
   "execution_count": null,
   "metadata": {},
   "outputs": [],
   "source": [
    "def extract_fields(example):\n",
    "    x = example[\"audio\"][\"array\"]\n",
    "    return {\"label\": example[\"label\"], \"array\": np.pad(x, (0, 16000 - len(x)), constant_values=0)}"
   ]
  },
  {
   "cell_type": "code",
   "execution_count": null,
   "metadata": {},
   "outputs": [],
   "source": [
    "train = train.map(extract_fields)\n",
    "validation = validation.map(extract_fields)\n",
    "test = test.map(extract_fields)"
   ]
  },
  {
   "cell_type": "code",
   "execution_count": null,
   "metadata": {},
   "outputs": [],
   "source": [
    "train = train.map(remove_columns=[\"file\", \"audio\", \"speaker_id\", \"utterance_id\"])\n",
    "validation = validation.map(remove_columns=[\"file\", \"audio\", \"speaker_id\", \"utterance_id\"])\n",
    "test = test.map(remove_columns=[\"file\", \"audio\", \"speaker_id\", \"utterance_id\"])"
   ]
  },
  {
   "cell_type": "code",
   "execution_count": null,
   "metadata": {},
   "outputs": [],
   "source": [
    "device = torch.device(\"cuda\" if torch.cuda.is_available() else \"cpu\")\n",
    "device = 'cuda:3'\n",
    "print(device)"
   ]
  },
  {
   "cell_type": "code",
   "execution_count": null,
   "metadata": {},
   "outputs": [],
   "source": [
    "import torch\n",
    "import torch.nn as nn\n",
    "from torch.utils.data import DataLoader\n",
    "from datasets import load_dataset\n",
    "import numpy as np\n",
    "\n",
    "from torch.autograd import Variable\n",
    "\n",
    "# device = torch.device(\"cuda\" if torch.cuda.is_available() else \"cpu\")\n",
    "\n",
    "class LSTMModel(nn.Module):\n",
    "    def __init__(self, input_size, hidden_size, num_layers, output_size):\n",
    "        super(LSTMModel, self).__init__()\n",
    "        self.hidden_size = hidden_size\n",
    "        self.num_layers = num_layers\n",
    "        self.lstm = nn.LSTM(input_size, hidden_size, num_layers, batch_first=True)\n",
    "        self.fc = nn.Linear(hidden_size, output_size)\n",
    "\n",
    "    def forward(self, x):\n",
    "        h0 = torch.zeros(self.num_layers, x.size(0), self.hidden_size).to(x.device)\n",
    "        c0 = torch.zeros(self.num_layers, x.size(0), self.hidden_size).to(x.device)\n",
    "\n",
    "        out, _ = self.lstm(x, (h0, c0))\n",
    "\n",
    "        out = self.fc(out[:, -1, :])\n",
    "        return out\n",
    "\n",
    "\n",
    "from datasets import load_metric\n",
    "\n",
    "accuracy = load_metric(\"accuracy\")\n",
    "\n",
    "NUM_EPOCHS = 100\n",
    "BATCH_SIZE = 256\n",
    "\n",
    "torch.cuda.empty_cache()\n",
    "model = LSTMModel(16_000, 64, 2, len(subset_of_labels))\n",
    "\n",
    "model.to(device)\n",
    "\n",
    "criterion = nn.CrossEntropyLoss()\n",
    "optimizer = torch.optim.Adam(model.parameters(), lr=0.001)\n",
    "scheduler = torch.optim.lr_scheduler.CosineAnnealingLR(\n",
    "    optimizer=optimizer, T_max=NUM_EPOCHS, eta_min=0\n",
    ")\n",
    "best_val_loss = float(\"inf\")"
   ]
  },
  {
   "cell_type": "code",
   "execution_count": null,
   "metadata": {},
   "outputs": [],
   "source": [
    "def calculate_accuracy(preds, y):\n",
    "    temp = torch.nn.functional.softmax(preds, dim=1)\n",
    "    temp = torch.argmax(temp, dim=1)\n",
    "    return (torch.sum(temp == y) / len(y)).item()"
   ]
  },
  {
   "cell_type": "code",
   "execution_count": null,
   "metadata": {},
   "outputs": [],
   "source": [
    "from tqdm import tqdm\n",
    "\n",
    "results = pd.DataFrame(columns=[\"epoch\", \"train_loss\", \"train_accuracy\", \"val_loss\", \"val_accuracy\"])\n",
    "\n",
    "train_loader = DataLoader(train, batch_size=BATCH_SIZE, shuffle=True)\n",
    "valid_loader = DataLoader(validation, batch_size=BATCH_SIZE)\n",
    "\n",
    "for epoch in tqdm(range(1, NUM_EPOCHS + 1)):\n",
    "    model.train()\n",
    "    train_loss = 0\n",
    "    train_accuracy = 0\n",
    "    for batch in train_loader:\n",
    "        x = batch[\"array\"]\n",
    "        x = torch.stack(x).to(device)\n",
    "        x = x.unsqueeze(1)\n",
    "        x = x.permute(2, 1, 0)\n",
    "        y = batch[\"label\"].to(device)\n",
    "        y_pred = model(x.float())\n",
    "        loss = criterion(y_pred, y)\n",
    "        train_loss += loss.item()\n",
    "        optimizer.zero_grad()\n",
    "        loss.backward()\n",
    "        optimizer.step()\n",
    "        scheduler.step()\n",
    "        train_accuracy += calculate_accuracy(y_pred, y)\n",
    "    train_loss /= len(train_loader)\n",
    "    train_accuracy = train_accuracy / len(train_loader)\n",
    "    print(f\"Epoch {epoch} train loss: {train_loss}, train accuracy: {train_accuracy}\")\n",
    "    model.eval()\n",
    "    with torch.no_grad():\n",
    "        val_loss = 0\n",
    "        val_accuracy = 0\n",
    "        for batch in valid_loader:\n",
    "            x = batch[\"array\"]\n",
    "            x = torch.stack(x).to(device)\n",
    "            x = x.unsqueeze(1)\n",
    "            x = x.permute(2, 1, 0)\n",
    "            y = batch[\"label\"].to(device)\n",
    "            y_pred = model(x.float())\n",
    "            val_loss += criterion(y_pred, y).item()\n",
    "            val_accuracy += calculate_accuracy(y_pred, y)\n",
    "        val_loss /= len(valid_loader)\n",
    "        val_accuracy = val_accuracy / len(valid_loader)\n",
    "        print(f\"Epoch {epoch} val loss: {val_loss}, val accuracy: {val_accuracy}\")\n",
    "        if val_loss < best_val_loss:\n",
    "            best_val_loss = val_loss\n",
    "            torch.save(model.state_dict(), \"best_model.pth\")\n",
    "        row = pd.DataFrame(\n",
    "            {\n",
    "                \"epoch\": [epoch],\n",
    "                \"train_loss\": [loss.item()],\n",
    "                \"train_accuracy\": [train_accuracy],\n",
    "                \"val_loss\": [val_loss],\n",
    "                \"val_accuracy\": [val_accuracy],\n",
    "            }\n",
    "        )\n",
    "        results = pd.merge(results, row, how=\"outer\")"
   ]
  },
  {
   "cell_type": "code",
   "execution_count": null,
   "metadata": {},
   "outputs": [],
   "source": [
    "results"
   ]
  },
  {
   "cell_type": "code",
   "execution_count": null,
   "metadata": {},
   "outputs": [],
   "source": [
    "results['val_accuracy'].max()"
   ]
  },
  {
   "cell_type": "code",
   "execution_count": null,
   "metadata": {},
   "outputs": [],
   "source": [
    "results.to_csv('lstm_only_selected.csv')"
   ]
  },
  {
   "cell_type": "code",
   "execution_count": null,
   "metadata": {},
   "outputs": [],
   "source": [
    "loaded_model = LSTMModel(16_000, 64, 2, len(subset_of_labels))\n",
    "loaded_model.load_state_dict(torch.load('best_model.pth', map_location=torch.device('cpu')))\n",
    "\n",
    "loaded_model.eval()\n",
    "\n",
    "with torch.no_grad():\n",
    "    val_loss = 0\n",
    "    val_accuracy = 0\n",
    "    for batch in DataLoader(validation, batch_size=BATCH_SIZE):\n",
    "        x = batch[\"array\"]\n",
    "        x = torch.stack(x).to(device)\n",
    "        x = x.unsqueeze(1)\n",
    "        x = x.permute(2, 1, 0)\n",
    "        y = batch[\"label\"].to(device)\n",
    "        y_pred = model(x.float())\n",
    "        val_loss += criterion(y_pred, y).item()\n",
    "        val_accuracy += calculate_accuracy(y_pred, y)\n",
    "    val_loss /= len(validation)\n",
    "    val_accuracy = val_accuracy / len(validation)\n",
    "print(val_loss)\n",
    "print(val_accuracy)"
   ]
  },
  {
   "cell_type": "code",
   "execution_count": null,
   "metadata": {},
   "outputs": [],
   "source": []
  }
 ],
 "metadata": {
  "kernelspec": {
   "display_name": "venv",
   "language": "python",
   "name": "python3"
  },
  "language_info": {
   "codemirror_mode": {
    "name": "ipython",
    "version": 3
   },
   "file_extension": ".py",
   "mimetype": "text/x-python",
   "name": "python",
   "nbconvert_exporter": "python",
   "pygments_lexer": "ipython3",
   "version": "3.10.12"
  }
 },
 "nbformat": 4,
 "nbformat_minor": 2
}
