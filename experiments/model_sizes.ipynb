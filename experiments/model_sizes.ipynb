{
 "cells": [
  {
   "cell_type": "markdown",
   "id": "312b3de0-5814-49fd-aa27-b9292d7212dd",
   "metadata": {},
   "source": [
    "# RNN, LSTM, GRU"
   ]
  },
  {
   "cell_type": "code",
   "execution_count": 1,
   "id": "bb15dd2c-f83b-41ad-84ac-d0c3d1c8a644",
   "metadata": {},
   "outputs": [],
   "source": [
    "import humanize\n",
    "import warnings\n",
    "\n",
    "warnings.filterwarnings('ignore')"
   ]
  },
  {
   "cell_type": "code",
   "execution_count": 2,
   "id": "09deece9-a347-4131-9222-28c31c1dc4d5",
   "metadata": {},
   "outputs": [],
   "source": [
    "from LSTM.models import RNNModel, LSTMModel, GRUModel"
   ]
  },
  {
   "cell_type": "code",
   "execution_count": 3,
   "id": "661e60a6-7858-4b89-ae2a-1fb4ff2f0a7a",
   "metadata": {},
   "outputs": [
    {
     "name": "stdout",
     "output_type": "stream",
     "text": [
      "RNNModel\n",
      "Number of parameters: 724\n",
      "RNNModel\n",
      "Number of parameters: 1.3 thousand\n",
      "RNNModel\n",
      "Number of parameters: 2.4 thousand\n",
      "RNNModel\n",
      "Number of parameters: 4.5 thousand\n",
      "RNNModel\n",
      "Number of parameters: 8.9 thousand\n",
      "RNNModel\n",
      "Number of parameters: 7.5 thousand\n",
      "RNNModel\n",
      "Number of parameters: 15.8 thousand\n",
      "RNNModel\n",
      "Number of parameters: 32.4 thousand\n",
      "RNNModel\n",
      "Number of parameters: 65.7 thousand\n",
      "RNNModel\n",
      "Number of parameters: 132.3 thousand\n",
      "RNNModel\n",
      "Number of parameters: 103.6 thousand\n",
      "RNNModel\n",
      "Number of parameters: 235.1 thousand\n",
      "RNNModel\n",
      "Number of parameters: 498.3 thousand\n",
      "RNNModel\n",
      "Number of parameters: 1.0 million\n",
      "RNNModel\n",
      "Number of parameters: 2.1 million\n",
      "\n",
      "LSTMModel\n",
      "Number of parameters: 2.2 thousand\n",
      "LSTMModel\n",
      "Number of parameters: 4.3 thousand\n",
      "LSTMModel\n",
      "Number of parameters: 8.7 thousand\n",
      "LSTMModel\n",
      "Number of parameters: 17.4 thousand\n",
      "LSTMModel\n",
      "Number of parameters: 34.8 thousand\n",
      "LSTMModel\n",
      "Number of parameters: 22.4 thousand\n",
      "LSTMModel\n",
      "Number of parameters: 55.7 thousand\n",
      "LSTMModel\n",
      "Number of parameters: 122.3 thousand\n",
      "LSTMModel\n",
      "Number of parameters: 255.4 thousand\n",
      "LSTMModel\n",
      "Number of parameters: 521.6 thousand\n",
      "LSTMModel\n",
      "Number of parameters: 310.9 thousand\n",
      "LSTMModel\n",
      "Number of parameters: 837.3 thousand\n",
      "LSTMModel\n",
      "Number of parameters: 1.9 million\n",
      "LSTMModel\n",
      "Number of parameters: 4.0 million\n",
      "LSTMModel\n",
      "Number of parameters: 8.2 million\n",
      "\n",
      "GRUModel\n",
      "Number of parameters: 1.7 thousand\n",
      "GRUModel\n",
      "Number of parameters: 3.3 thousand\n",
      "GRUModel\n",
      "Number of parameters: 6.6 thousand\n",
      "GRUModel\n",
      "Number of parameters: 13.1 thousand\n",
      "GRUModel\n",
      "Number of parameters: 26.2 thousand\n",
      "GRUModel\n",
      "Number of parameters: 17.5 thousand\n",
      "GRUModel\n",
      "Number of parameters: 42.4 thousand\n",
      "GRUModel\n",
      "Number of parameters: 92.3 thousand\n",
      "GRUModel\n",
      "Number of parameters: 192.2 thousand\n",
      "GRUModel\n",
      "Number of parameters: 391.9 thousand\n",
      "GRUModel\n",
      "Number of parameters: 241.8 thousand\n",
      "GRUModel\n",
      "Number of parameters: 636.6 thousand\n",
      "GRUModel\n",
      "Number of parameters: 1.4 million\n",
      "GRUModel\n",
      "Number of parameters: 3.0 million\n",
      "GRUModel\n",
      "Number of parameters: 6.2 million\n",
      "\n"
     ]
    }
   ],
   "source": [
    "for i, model in enumerate(\n",
    "    [\n",
    "        RNNModel,\n",
    "        LSTMModel,\n",
    "        GRUModel,\n",
    "    ]\n",
    "):\n",
    "    for hidden_size in [16, 64, 256]:\n",
    "        for num_layers in [1, 2, 4, 8, 16]:\n",
    "            model_instance = model(input_size=12, hidden_size=hidden_size, num_layers=num_layers, output_size=12)\n",
    "            print(model_instance.__class__.__name__)\n",
    "            print(\n",
    "                \"Number of parameters:\",\n",
    "                humanize.intword(sum(p.numel() for p in model_instance.parameters() if p.requires_grad)),\n",
    "            )\n",
    "    print()"
   ]
  },
  {
   "cell_type": "markdown",
   "id": "f06fc945-b70b-4fff-ae04-6c843d068744",
   "metadata": {},
   "source": [
    "# Whisper"
   ]
  },
  {
   "cell_type": "code",
   "execution_count": 4,
   "id": "5cdfaf19-6634-4919-a23c-0e596aad676f",
   "metadata": {},
   "outputs": [
    {
     "data": {
      "text/plain": [
       "'Number of parameters: 7.7 million'"
      ]
     },
     "execution_count": 4,
     "metadata": {},
     "output_type": "execute_result"
    }
   ],
   "source": [
    "from transformers import AutoModelForAudioClassification\n",
    "\n",
    "model = AutoModelForAudioClassification.from_pretrained('whisper/checkpoints/not_pretrained/Teapack1_whisper_tiny_finetuned_no_go_kws_seed_1/checkpoint-990/')\n",
    "f\"Number of parameters: {humanize.intword(sum(p.numel() for p in model.parameters() if p.requires_grad))}\""
   ]
  },
  {
   "cell_type": "markdown",
   "id": "10fb486c-15ae-4bea-938b-2d9e24b0ac6f",
   "metadata": {},
   "source": [
    "# AST"
   ]
  },
  {
   "cell_type": "code",
   "execution_count": 5,
   "id": "776c8308-3fc0-4e2c-9f4f-d35b3b947382",
   "metadata": {},
   "outputs": [
    {
     "data": {
      "text/plain": [
       "'Number of parameters: 85.4 million'"
      ]
     },
     "execution_count": 5,
     "metadata": {},
     "output_type": "execute_result"
    }
   ],
   "source": [
    "model = AutoModelForAudioClassification.from_pretrained('AST/checkpoints/not_pretrained/MIT_ast_finetuned_speech_commands_v2_seed_2/checkpoint-990/')\n",
    "f\"Number of parameters: {humanize.intword(sum(p.numel() for p in model.parameters() if p.requires_grad))}\""
   ]
  }
 ],
 "metadata": {
  "kernelspec": {
   "display_name": "Python 3 (ipykernel)",
   "language": "python",
   "name": "python3"
  },
  "language_info": {
   "codemirror_mode": {
    "name": "ipython",
    "version": 3
   },
   "file_extension": ".py",
   "mimetype": "text/x-python",
   "name": "python",
   "nbconvert_exporter": "python",
   "pygments_lexer": "ipython3",
   "version": "3.10.13"
  }
 },
 "nbformat": 4,
 "nbformat_minor": 5
}
